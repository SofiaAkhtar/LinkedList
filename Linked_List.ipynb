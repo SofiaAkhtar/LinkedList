{
  "nbformat": 4,
  "nbformat_minor": 0,
  "metadata": {
    "colab": {
      "provenance": [],
      "authorship_tag": "ABX9TyMhRjCBhoSxPL52FWF24Z5V",
      "include_colab_link": true
    },
    "kernelspec": {
      "name": "python3",
      "display_name": "Python 3"
    },
    "language_info": {
      "name": "python"
    }
  },
  "cells": [
    {
      "cell_type": "markdown",
      "metadata": {
        "id": "view-in-github",
        "colab_type": "text"
      },
      "source": [
        "<a href=\"https://colab.research.google.com/github/SofiaAkhtar/LinkedList/blob/main/Linked_List.ipynb\" target=\"_parent\"><img src=\"https://colab.research.google.com/assets/colab-badge.svg\" alt=\"Open In Colab\"/></a>"
      ]
    },
    {
      "cell_type": "markdown",
      "source": [
        "Linked List insertion"
      ],
      "metadata": {
        "id": "pCofY14zDvOr"
      }
    },
    {
      "cell_type": "code",
      "execution_count": null,
      "metadata": {
        "id": "sFjVaIlHDNcp",
        "colab": {
          "base_uri": "https://localhost:8080/"
        },
        "outputId": "60fa1534-d6bb-40de-ba7a-dfedb38f22bf"
      },
      "outputs": [
        {
          "output_type": "stream",
          "name": "stdout",
          "text": [
            "Length =  4\n",
            "sofia->sadiya->taquee->\n"
          ]
        }
      ],
      "source": [
        "class Node:\n",
        "    def __init__(self,data = None,next = None):\n",
        "        self.data = data\n",
        "        self.next = next\n",
        "class LinkedList:\n",
        "    def __init__(self):\n",
        "        self.head = None\n",
        "    def insert_at_begin(self,data):\n",
        "        node = Node(data,self.head)\n",
        "        self.head = node\n",
        "    def print(self):\n",
        "        if self.head is None:\n",
        "            print(\"LinkedList empty\")\n",
        "            return\n",
        "        itr = self.head\n",
        "        llstr = ''\n",
        "        while itr:\n",
        "            llstr += str(itr.data)+'->'\n",
        "            itr = itr.next\n",
        "        print(llstr)\n",
        "    def insert_at_end(self,data):\n",
        "        if self.head is None:\n",
        "            self.head = Node(data,None)\n",
        "            return\n",
        "        itr = self.head\n",
        "        while itr.next:\n",
        "            itr = itr.next\n",
        "        itr.next = Node(data,None)\n",
        "    def insert_values(self,data_list):\n",
        "        self.head = None\n",
        "        for data in data_list:\n",
        "            self.insert_at_end(data)\n",
        "    def length(self):\n",
        "        count = 0\n",
        "        itr = self.head\n",
        "        while itr:\n",
        "            count += 1\n",
        "            itr = itr.next\n",
        "        return count\n",
        "    def remove_at(self,index):\n",
        "        if index < 0 or index >= self.length():\n",
        "            raise Exception(\"Invalid Index\")\n",
        "        if index == 0:\n",
        "            self.head = self.head.next\n",
        "        count = 0\n",
        "        itr = self.head\n",
        "        while itr:\n",
        "            if count == index-1:\n",
        "                itr.next = itr.next.next\n",
        "            itr = itr.next\n",
        "            count += 1\n",
        "    def insert_at(self,index,data):\n",
        "\n",
        "\n",
        "\n",
        "if __name__==\"__main__\":\n",
        "    ll=LinkedList()\n",
        "    ll.insert_at_begin(5)\n",
        "    ll.insert_at_begin(51)\n",
        "    ll.insert_at_begin(55)\n",
        "    ll.insert_at_end(69)\n",
        "    ll.insert_values([\"sofia\",\"sadiya\",\"nabeel\",\"taquee\"])\n",
        "    print(\"Length = \",ll.length())\n",
        "    ll.remove_at(2)\n",
        "    ll.insert_at(3)\n",
        "    ll.print()"
      ]
    },
    {
      "cell_type": "code",
      "source": [
        "class Node:\n",
        "    def __init__(self, data=None, next=None):\n",
        "        self.data = data\n",
        "        self.next = next\n",
        "\n",
        "class LinkedList:\n",
        "    def __init__(self):\n",
        "        self.head = None\n",
        "\n",
        "    def insert_at_begin(self, data):\n",
        "        node = Node(data, self.head)\n",
        "        self.head = node\n",
        "\n",
        "    def print(self):\n",
        "        if self.head is None:\n",
        "            print(\"LinkedList empty\")\n",
        "            return\n",
        "        itr = self.head\n",
        "        llstr = ''\n",
        "        while itr:\n",
        "            llstr += str(itr.data) + '->'\n",
        "            itr = itr.next\n",
        "        print(llstr)\n",
        "\n",
        "if __name__ == \"__main__\":\n",
        "    ll = LinkedList()\n",
        "    ll.insert_at_begin(5)\n",
        "    ll.print()\n"
      ],
      "metadata": {
        "colab": {
          "base_uri": "https://localhost:8080/"
        },
        "id": "0R8Q3UjoYfWX",
        "outputId": "da7a2838-6949-416c-b513-3542930de3e9"
      },
      "execution_count": null,
      "outputs": [
        {
          "output_type": "stream",
          "name": "stdout",
          "text": [
            "5->\n"
          ]
        }
      ]
    }
  ]
}