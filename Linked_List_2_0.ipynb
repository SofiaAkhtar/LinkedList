{
  "nbformat": 4,
  "nbformat_minor": 0,
  "metadata": {
    "colab": {
      "provenance": [],
      "authorship_tag": "ABX9TyPrn3s4rpQSTnc01Z4NPbMM",
      "include_colab_link": true
    },
    "kernelspec": {
      "name": "python3",
      "display_name": "Python 3"
    },
    "language_info": {
      "name": "python"
    }
  },
  "cells": [
    {
      "cell_type": "markdown",
      "metadata": {
        "id": "view-in-github",
        "colab_type": "text"
      },
      "source": [
        "<a href=\"https://colab.research.google.com/github/SofiaAkhtar/LinkedList/blob/main/Linked_List_2_0.ipynb\" target=\"_parent\"><img src=\"https://colab.research.google.com/assets/colab-badge.svg\" alt=\"Open In Colab\"/></a>"
      ]
    },
    {
      "cell_type": "markdown",
      "source": [
        "Insert 10 natural numbers"
      ],
      "metadata": {
        "id": "Bf7vKUQzDves"
      }
    },
    {
      "cell_type": "code",
      "source": [
        "class Node:\n",
        "    def __init__(self, data=None, next=None):\n",
        "        self.data = data\n",
        "        self.next = next\n",
        "\n",
        "class LinkedList:\n",
        "    def __init__(self):\n",
        "        self.head = None\n",
        "\n",
        "    def print(self):\n",
        "        current = self.head\n",
        "        llstr = ''\n",
        "\n",
        "        while current:\n",
        "            llstr += str(current.data) + '->'\n",
        "            current = current.next\n",
        "\n",
        "        llstr += 'None'\n",
        "        print(llstr)\n",
        "\n",
        "if __name__ == '__main__':\n",
        "    ll = LinkedList()\n",
        "\n",
        "    # Creating a linked list with the first 10 natural numbers\n",
        "    for i in range(1, 11):\n",
        "        new_node = Node(i)\n",
        "        if ll.head is None:\n",
        "            ll.head = new_node\n",
        "        else:\n",
        "            current = ll.head\n",
        "            while current.next:\n",
        "                current = current.next\n",
        "            current.next = new_node\n",
        "\n",
        "    ll.print()\n"
      ],
      "metadata": {
        "colab": {
          "base_uri": "https://localhost:8080/"
        },
        "id": "8GVXjZQMG1kR",
        "outputId": "258e87bb-c927-448d-e742-db95a1580229"
      },
      "execution_count": null,
      "outputs": [
        {
          "output_type": "stream",
          "name": "stdout",
          "text": [
            "1->2->3->4->5->6->7->8->9->10->None\n"
          ]
        }
      ]
    },
    {
      "cell_type": "markdown",
      "source": [
        "Insert 10 natural numbers.......in reverse"
      ],
      "metadata": {
        "id": "WpKHdJpdR-e3"
      }
    },
    {
      "cell_type": "code",
      "source": [
        "class Node:\n",
        "    def __init__(self, data=None, next=None):\n",
        "        self.data = data\n",
        "        self.next = next\n",
        "\n",
        "class LinkedList:\n",
        "    def __init__(self):\n",
        "        self.head = None\n",
        "\n",
        "    def print(self):\n",
        "        current = self.head\n",
        "        llstr = ''\n",
        "\n",
        "        while current:\n",
        "            llstr = str(current.data) + '->' +llstr\n",
        "            current = current.next\n",
        "\n",
        "        llstr += 'None'\n",
        "        print(llstr)\n",
        "\n",
        "if __name__ == '__main__':\n",
        "    ll = LinkedList()\n",
        "\n",
        "    # Creating a linked list with the first 10 natural numbers\n",
        "    for i in range(1, 11):\n",
        "        new_node = Node(i)\n",
        "        if ll.head is None:\n",
        "            ll.head = new_node\n",
        "        else:\n",
        "            current = ll.head\n",
        "            while current.next:\n",
        "                current = current.next\n",
        "            current.next = new_node\n",
        "\n",
        "    ll.print()\n"
      ],
      "metadata": {
        "colab": {
          "base_uri": "https://localhost:8080/"
        },
        "id": "WuoLbaW2R6Cg",
        "outputId": "9ad016e9-ebb8-4b04-a443-95047f74b2e8"
      },
      "execution_count": null,
      "outputs": [
        {
          "output_type": "stream",
          "name": "stdout",
          "text": [
            "10->9->8->7->6->5->4->3->2->1->None\n"
          ]
        }
      ]
    },
    {
      "cell_type": "markdown",
      "source": [
        "delete k from list"
      ],
      "metadata": {
        "id": "YnEsBQLYSLZ3"
      }
    },
    {
      "cell_type": "code",
      "source": [
        "class Node:\n",
        "    def __init__(self, data=None, next=None):\n",
        "        self.data = data\n",
        "        self.next = next\n",
        "\n",
        "class LinkedList:\n",
        "    def __init__(self):\n",
        "        self.head = None\n",
        "    def delete(self,data):\n",
        "        current = self.head\n",
        "        if current and current.data == data:\n",
        "            self.head = current.next\n",
        "            return\n",
        "        while current.next:\n",
        "            if current.next.data == data:\n",
        "                current.next = current.next.next\n",
        "                break\n",
        "            current = current.next\n",
        "\n",
        "    def print(self):\n",
        "        current = self.head\n",
        "        llstr = ''\n",
        "\n",
        "        while current:\n",
        "            llstr += str(current.data) + '->'\n",
        "            current = current.next\n",
        "\n",
        "        llstr += 'None'\n",
        "        print(llstr)\n",
        "\n",
        "if __name__ == '__main__':\n",
        "    ll = LinkedList()\n",
        "\n",
        "    # Creating a linked list with the first 10 natural numbers\n",
        "    for i in range(1, 11):\n",
        "        new_node = Node(i)\n",
        "        if ll.head is None:\n",
        "            ll.head = new_node\n",
        "        else:\n",
        "            current = ll.head\n",
        "            while current.next:\n",
        "                current = current.next\n",
        "            current.next = new_node\n",
        "\n",
        "    ll.print()\n",
        "    ll.delete(5)\n",
        "    ll.print()"
      ],
      "metadata": {
        "colab": {
          "base_uri": "https://localhost:8080/"
        },
        "id": "pOCHMpHPSNt9",
        "outputId": "1c2d8051-0460-4026-de83-f8f54d1e2dd0"
      },
      "execution_count": null,
      "outputs": [
        {
          "output_type": "stream",
          "name": "stdout",
          "text": [
            "1->2->3->4->5->6->7->8->9->10->None\n",
            "1->2->3->4->6->7->8->9->10->None\n"
          ]
        }
      ]
    },
    {
      "cell_type": "markdown",
      "source": [
        "length of a linked list"
      ],
      "metadata": {
        "id": "stOryYz1UXkJ"
      }
    },
    {
      "cell_type": "code",
      "source": [
        "class Node:\n",
        "    def __init__(self, data=None, next=None):\n",
        "        self.data = data\n",
        "        self.next = next\n",
        "\n",
        "class LinkedList:\n",
        "    def __init__(self):\n",
        "        self.head = None\n",
        "    def delete(self,data):\n",
        "        current = self.head\n",
        "        if current and current.data == data:\n",
        "            self.head = current.next\n",
        "            return\n",
        "        while current.next:\n",
        "            if current.next.data == data:\n",
        "                current.next = current.next.next\n",
        "                break\n",
        "            current = current.next\n",
        "    def length(self):\n",
        "        count = 0\n",
        "        itr = self.head\n",
        "        while itr:\n",
        "            count+=1\n",
        "            itr = itr.next\n",
        "        return count\n",
        "    def print(self):\n",
        "        current = self.head\n",
        "        llstr = ''\n",
        "\n",
        "        while current:\n",
        "            llstr += str(current.data) + '->'\n",
        "            current = current.next\n",
        "\n",
        "        llstr += 'None'\n",
        "        print(llstr)\n",
        "\n",
        "if __name__ == '__main__':\n",
        "    ll = LinkedList()\n",
        "\n",
        "    # Creating a linked list with the first 10 natural numbers\n",
        "    for i in range(1, 11):\n",
        "        new_node = Node(i)\n",
        "        if ll.head is None:\n",
        "            ll.head = new_node\n",
        "        else:\n",
        "            current = ll.head\n",
        "            while current.next:\n",
        "                current = current.next\n",
        "            current.next = new_node\n",
        "\n",
        "    ll.print()\n",
        "    print(ll.length())\n",
        "    ll.delete(5)\n",
        "    ll.print()\n",
        "    print(ll.length())"
      ],
      "metadata": {
        "colab": {
          "base_uri": "https://localhost:8080/"
        },
        "id": "5KZw2Z93UbLR",
        "outputId": "ee8d4b2c-6ae1-4339-d8cf-e052f73dd99b"
      },
      "execution_count": null,
      "outputs": [
        {
          "output_type": "stream",
          "name": "stdout",
          "text": [
            "1->2->3->4->5->6->7->8->9->10->None\n",
            "10\n",
            "1->2->3->4->6->7->8->9->10->None\n",
            "9\n"
          ]
        }
      ]
    },
    {
      "cell_type": "markdown",
      "source": [
        "detect loop"
      ],
      "metadata": {
        "id": "LRi57B7EV2fA"
      }
    },
    {
      "cell_type": "code",
      "source": [
        "class Node:\n",
        "    def __init__(self, data=None, next=None):\n",
        "        self.data = data\n",
        "        self.next = next\n",
        "\n",
        "class LinkedList:\n",
        "    def __init__(self):\n",
        "        self.head = None\n",
        "    def delete(self,data):\n",
        "        current = self.head\n",
        "        if current and current.data == data:\n",
        "            self.head = current.next\n",
        "            return\n",
        "        while current.next:\n",
        "            if current.next.data == data:\n",
        "                current.next = current.next.next\n",
        "                break\n",
        "            current = current.next\n",
        "    def length(self):\n",
        "        count = 0\n",
        "        itr = self.head\n",
        "        while itr:\n",
        "            count+=1\n",
        "            itr = itr.next\n",
        "        return count\n",
        "    def detect_loop(self):\n",
        "        slow_ptr = self.head\n",
        "        fast_ptr = self.head\n",
        "\n",
        "        while fast_ptr and fast_ptr.next:\n",
        "            slow_ptr = slow_ptr.next\n",
        "            fast_ptr = fast_ptr.next.next\n",
        "\n",
        "            if slow_ptr == fast_ptr:\n",
        "                return True\n",
        "\n",
        "        return False\n",
        "    def print(self):\n",
        "        current = self.head\n",
        "        llstr = ''\n",
        "\n",
        "        while current:\n",
        "            llstr += str(current.data) + '->'\n",
        "            current = current.next\n",
        "\n",
        "        llstr += 'None'\n",
        "        print(llstr)\n",
        "\n",
        "if __name__ == '__main__':\n",
        "    ll = LinkedList()\n",
        "\n",
        "    # Creating a linked list with the first 10 natural numbers\n",
        "    for i in range(1, 11):\n",
        "        new_node = Node(i)\n",
        "        if ll.head is None:\n",
        "            ll.head = new_node\n",
        "        else:\n",
        "            current = ll.head\n",
        "            while current.next:\n",
        "                current = current.next\n",
        "            current.next = new_node\n",
        "\n",
        "    ll.print()\n",
        "    print(ll.length())\n",
        "    ll.delete(5)\n",
        "    ll.print()\n",
        "    print(ll.detect_loop())\n",
        "    print(ll.length())"
      ],
      "metadata": {
        "colab": {
          "base_uri": "https://localhost:8080/"
        },
        "id": "vimWSWZDUgEK",
        "outputId": "7e2acf0d-1845-46d2-a32b-7ca505c83bc8"
      },
      "execution_count": null,
      "outputs": [
        {
          "output_type": "stream",
          "name": "stdout",
          "text": [
            "1->2->3->4->5->6->7->8->9->10->None\n",
            "10\n",
            "1->2->3->4->6->7->8->9->10->None\n",
            "False\n",
            "9\n"
          ]
        }
      ]
    },
    {
      "cell_type": "markdown",
      "source": [
        "find_mid"
      ],
      "metadata": {
        "id": "lxSkfcTBXvM_"
      }
    },
    {
      "cell_type": "code",
      "source": [
        "class Node:\n",
        "    def __init__(self, data=None, next=None):\n",
        "        self.data = data\n",
        "        self.next = next\n",
        "\n",
        "class LinkedList:\n",
        "    def __init__(self):\n",
        "        self.head = None\n",
        "    def delete(self,data):\n",
        "        current = self.head\n",
        "        if current and current.data == data:\n",
        "            self.head = current.next\n",
        "            return\n",
        "        while current.next:\n",
        "            if current.next.data == data:\n",
        "                current.next = current.next.next\n",
        "                break\n",
        "            current = current.next\n",
        "    def length(self):\n",
        "        count = 0\n",
        "        itr = self.head\n",
        "        while itr:\n",
        "            count+=1\n",
        "            itr = itr.next\n",
        "        return count\n",
        "    def find_mid(self):\n",
        "        itr = self.head\n",
        "        midindex = 0\n",
        "        l = self.length()\n",
        "        if l == 0:\n",
        "            return None\n",
        "        if l % 2 == 0:\n",
        "            midindex = l//2\n",
        "        else:\n",
        "            midindex = l//2 +1\n",
        "        for _ in range (midindex):\n",
        "            itr = itr.next\n",
        "        return itr.data\n",
        "\n",
        "    def detect_loop(self):\n",
        "        slow_ptr = self.head\n",
        "        fast_ptr = self.head\n",
        "\n",
        "        while fast_ptr and fast_ptr.next:\n",
        "            slow_ptr = slow_ptr.next\n",
        "            fast_ptr = fast_ptr.next.next\n",
        "\n",
        "            if slow_ptr == fast_ptr:\n",
        "                return True\n",
        "\n",
        "        return False\n",
        "    def print(self):\n",
        "        current = self.head\n",
        "        llstr = ''\n",
        "\n",
        "        while current:\n",
        "            llstr += str(current.data) + '->'\n",
        "            current = current.next\n",
        "\n",
        "        llstr += 'None'\n",
        "        print(llstr)\n",
        "\n",
        "if __name__ == '__main__':\n",
        "    ll = LinkedList()\n",
        "\n",
        "    # Creating a linked list with the first 10 natural numbers\n",
        "    for i in range(1, 11):\n",
        "        new_node = Node(i)\n",
        "        if ll.head is None:\n",
        "            ll.head = new_node\n",
        "        else:\n",
        "            current = ll.head\n",
        "            while current.next:\n",
        "                current = current.next\n",
        "            current.next = new_node\n",
        "\n",
        "    ll.print()\n",
        "    print(ll.length())\n",
        "    ll.delete(5)\n",
        "    ll.print()\n",
        "    print(ll.detect_loop())\n",
        "    print(ll.find_mid())\n",
        "    print(ll.length())"
      ],
      "metadata": {
        "colab": {
          "base_uri": "https://localhost:8080/"
        },
        "id": "tXbbuxPoVZyQ",
        "outputId": "2cdee26c-7b5a-486a-9065-8b94080f0ec1"
      },
      "execution_count": null,
      "outputs": [
        {
          "output_type": "stream",
          "name": "stdout",
          "text": [
            "1->2->3->4->5->6->7->8->9->10->None\n",
            "10\n",
            "1->2->3->4->6->7->8->9->10->None\n",
            "False\n",
            "7\n",
            "9\n"
          ]
        }
      ]
    }
  ]
}